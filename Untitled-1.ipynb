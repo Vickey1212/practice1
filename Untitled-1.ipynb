{
 "cells": [
  {
   "cell_type": "code",
   "execution_count": 4,
   "metadata": {},
   "outputs": [
    {
     "name": "stdout",
     "output_type": "stream",
     "text": [
      "['sepal length (cm)', 'sepal width (cm)', 'petal length (cm)', 'petal width (cm)']\n",
      "[0 0 0 0 0 0 0 0 0 0 0 0 0 0 0 0 0 0 0 0 0 0 0 0 0 0 0 0 0 0 0 0 0 0 0 0 0\n",
      " 0 0 0 0 0 0 0 0 0 0 0 0 0 1 1 1 1 1 1 1 1 1 1 1 1 1 1 1 1 1 1 1 1 1 1 1 1\n",
      " 1 1 1 1 1 1 1 1 1 1 1 1 1 1 1 1 1 1 1 1 1 1 1 1 1 1 2 2 2 2 2 2 2 2 2 2 2\n",
      " 2 2 2 2 2 2 2 2 2 2 2 2 2 2 2 2 2 2 2 2 2 2 2 2 2 2 2 2 2 2 2 2 2 2 2 2 2\n",
      " 2 2]\n"
     ]
    },
    {
     "data": {
      "text/plain": [
       "array([[5.1, 3.5, 1.4, 0.2],\n",
       "       [4.9, 3. , 1.4, 0.2],\n",
       "       [4.7, 3.2, 1.3, 0.2],\n",
       "       [4.6, 3.1, 1.5, 0.2],\n",
       "       [5. , 3.6, 1.4, 0.2]])"
      ]
     },
     "execution_count": 4,
     "metadata": {},
     "output_type": "execute_result"
    }
   ],
   "source": [
    "from sklearn.datasets import load_iris\n",
    "iris=load_iris()\n",
    "x=iris.data\n",
    "y=iris.target\n",
    "fn=iris.feature_names\n",
    "t=iris.target\n",
    "print(fn)\n",
    "print(t)\n",
    "x[:5]\n"
   ]
  },
  {
   "cell_type": "code",
   "execution_count": 24,
   "metadata": {},
   "outputs": [
    {
     "name": "stdout",
     "output_type": "stream",
     "text": [
      "0.9833333333333333\n"
     ]
    },
    {
     "data": {
      "text/plain": [
       "['versicolor', 'virginica']"
      ]
     },
     "execution_count": 24,
     "metadata": {},
     "output_type": "execute_result"
    }
   ],
   "source": [
    "from sklearn.datasets import load_iris\n",
    "x=iris.data\n",
    "y=iris.target\n",
    "from sklearn.model_selection import train_test_split\n",
    "from sklearn.neighbors import KNeighborsClassifier as kn\n",
    "iris=load_iris()\n",
    "\n",
    "x_train,x_test,y_train,y_test=train_test_split(x,y,test_size=0.4,random_state=1)\n",
    "\n",
    "\n",
    "k=kn(n_neighbors=3)\n",
    "k.fit(x_train,y_train)\n",
    "y_pred=k.predict(x_test)\n",
    "\n",
    "from sklearn.metrics import accuracy_score as acc\n",
    "print(acc(y_test,y_pred))\n",
    "sam=[[1,2,3,4],[6,7,8,5]]\n",
    "p=k.predict(sam)\n",
    "ps=[iris.target_names[i] for i in p]\n",
    "ps"
   ]
  },
  {
   "cell_type": "code",
   "execution_count": 7,
   "metadata": {},
   "outputs": [
    {
     "name": "stdout",
     "output_type": "stream",
     "text": [
      "3, 4,"
     ]
    }
   ],
   "source": [
    "n=int(input())\n",
    "a=[int(x)for x in input().split(\",\")]\n",
    "b=[]\n",
    "if n in a:\n",
    "    b.append(n)\n",
    "else:\n",
    "    for i in a:\n",
    "        if i==n:\n",
    "            b.append(i)\n",
    "            break\n",
    "        else:\n",
    "            for j in a:\n",
    "                if i+j==n:\n",
    "                    b.append((i,j))\n",
    "c=str(min(b))\n",
    "d=[str(x)for x in c.strip(\"()\").split(\",\")]\n",
    "for i in d:\n",
    "    print(f\"{i},\",end=\"\")"
   ]
  },
  {
   "cell_type": "code",
   "execution_count": null,
   "metadata": {},
   "outputs": [
    {
     "name": "stdout",
     "output_type": "stream",
     "text": [
      "28\n"
     ]
    }
   ],
   "source": [
    "m=int(input())\n",
    "n=int(input())\n",
    "d=[[1]*n for i in range(m)]\n",
    "\n",
    "for i  in range(1,m):\n",
    "    for j in range(1,n):\n",
    "        d[i][j]=d[i-1][j]+d[i][j-1]\n",
    "print(d[m-1][n-1])"
   ]
  },
  {
   "cell_type": "code",
   "execution_count": 3,
   "metadata": {},
   "outputs": [
    {
     "name": "stdout",
     "output_type": "stream",
     "text": [
      "[1, 2, 3, 5]\n",
      "5\n"
     ]
    }
   ],
   "source": [
    "n=int(input())\n",
    "a=[1,2]\n",
    "for i in range(2,n):\n",
    "    a.append(a[-1]+a[-2])\n",
    "print(a)\n",
    "print(a[-1])"
   ]
  },
  {
   "cell_type": "code",
   "execution_count": 6,
   "metadata": {},
   "outputs": [
    {
     "name": "stdout",
     "output_type": "stream",
     "text": [
      "28\n"
     ]
    }
   ],
   "source": [
    "m,n=map(int,input().split())\n",
    "dp=[[1]*n for i in range(m)]\n",
    "for i in range(1,m):\n",
    "    for j in range(1,n):\n",
    "        dp[i][j]=dp[i-1][j]+dp[i][j-1]\n",
    "print(dp[m-1][n-1])"
   ]
  },
  {
   "cell_type": "code",
   "execution_count": 4,
   "metadata": {},
   "outputs": [
    {
     "name": "stdout",
     "output_type": "stream",
     "text": [
      "3,4\n"
     ]
    }
   ],
   "source": [
    "n=4\n",
    "t=7\n",
    "a=[5,3,4,8]\n",
    "if t in a:\n",
    "    print(t)\n",
    "else:\n",
    "    c=[]\n",
    "    for i in range(1,n):\n",
    "        for j in range(i+1,n):\n",
    "            if a[i]+a[j]==t:\n",
    "                c.append((a[i],a[j]))\n",
    "    print(','.join(map(str,min(c))))           "
   ]
  },
  {
   "cell_type": "code",
   "execution_count": 4,
   "metadata": {},
   "outputs": [
    {
     "name": "stdout",
     "output_type": "stream",
     "text": [
      "0\n"
     ]
    }
   ],
   "source": [
    "#longest consecutive element in the array\n",
    "\n",
    "n=5\n",
    "a=[1,2,3,4,8,6,7,9]\n",
    "a.sort()\n",
    "\n",
    "c=set(a)\n",
    "e,l=1,1\n",
    "for i in range(1,len(c)):\n",
    "    if a[i]==a[i-1]+1:\n",
    "        e+=1\n",
    "\n",
    "    else:\n",
    "        \n",
    "        l=max(e,l)\n",
    "        e=1\n",
    "print(0 if l==e else max(e,l))"
   ]
  },
  {
   "cell_type": "code",
   "execution_count": 2,
   "metadata": {},
   "outputs": [
    {
     "name": "stdout",
     "output_type": "stream",
     "text": [
      "2\n",
      "2 3\n"
     ]
    }
   ],
   "source": [
    "a=[int(x)for x in \"886648\"]\n",
    "b=int(input())\n",
    "c=[]\n",
    "if b in a:\n",
    "    print(a.count(b))\n",
    "    for i,x in enumerate(a):\n",
    "        if x==b:\n",
    "            c.append(i)\n",
    "    print(' '.join(map(str,c)))\n",
    "else:\n",
    "    print(0)"
   ]
  },
  {
   "cell_type": "code",
   "execution_count": 1,
   "metadata": {},
   "outputs": [
    {
     "name": "stdout",
     "output_type": "stream",
     "text": [
      "2#1#2\n"
     ]
    }
   ],
   "source": [
    "a=str(bin(int(input()))[2:])\n",
    "c=a.count('1')\n",
    "b=len(a)-a.rfind('1')-1\n",
    "print(f\"{c}#{b}#{len(a)-1}\")"
   ]
  },
  {
   "cell_type": "code",
   "execution_count": 6,
   "metadata": {},
   "outputs": [
    {
     "name": "stdout",
     "output_type": "stream",
     "text": [
      "g\n",
      "gr\n",
      "gra\n",
      "gram\n",
      "gramp\n",
      "grampr\n",
      "grampro\n"
     ]
    }
   ],
   "source": [
    "a=input()\n",
    "n=len(a)//2\n",
    "for i in range(len(a)):\n",
    "    s=n\n",
    "    e=n+i+1\n",
    "    print(a[s:e]+a[:max(0,e-len(a))])"
   ]
  },
  {
   "cell_type": "code",
   "execution_count": 1,
   "metadata": {},
   "outputs": [],
   "source": [
    "import qrcode\n",
    "img=qrcode.make('http://103.114.208.150/elearning/data/sample.html')\n",
    "img.save('myQR.png')\n",
    "img.show()\n"
   ]
  },
  {
   "cell_type": "code",
   "execution_count": 1,
   "metadata": {},
   "outputs": [
    {
     "name": "stdout",
     "output_type": "stream",
     "text": [
      "(1 1 6)(1 2 5)(1 7)(2 6)"
     ]
    }
   ],
   "source": [
    "def s(x):\n",
    "    p=x.split()\n",
    "    return len(p),x\n",
    "n=1\n",
    "for y in range(n):\n",
    "    q=7\n",
    "    a=[10,1,2,7,6,1,5]\n",
    "    l=set()\n",
    "    t=8\n",
    "    for i in range(q):\n",
    "        for j in range(i+1,q):\n",
    "            if a[i]+a[j]==t:\n",
    "                l.add(tuple(sorted((a[i],a[j]))))\n",
    "\n",
    "    for i in range(q):\n",
    "        for j in range(i+1,q):\n",
    "            for k in range(j+1,q):\n",
    "                if a[i]+a[j]+a[k]==t:\n",
    "                    l.add((tuple(sorted((a[i],a[j],a[k])))))\n",
    "                    \n",
    "    if len(l)!=0:\n",
    "        r=sorted(l,key=lambda x: (-len(x),x)) \n",
    "        for i in r:\n",
    "            print(f\"({' '.join(map(str,i))})\",end=\"\")\n",
    "  \n"
   ]
  },
  {
   "cell_type": "code",
   "execution_count": 7,
   "metadata": {},
   "outputs": [
    {
     "name": "stdout",
     "output_type": "stream",
     "text": [
      "135\n"
     ]
    }
   ],
   "source": [
    "n=int(input())\n",
    "a=(n&0xF0)>>4\n",
    "b=(n&0x0F)<<4\n",
    "print(a|b)"
   ]
  },
  {
   "cell_type": "code",
   "execution_count": 17,
   "metadata": {},
   "outputs": [
    {
     "name": "stdout",
     "output_type": "stream",
     "text": [
      "10 / 5 - 2\n"
     ]
    }
   ],
   "source": [
    "n=3\n",
    "a=[10,5,2]\n",
    "t=0\n",
    "s=[\"+\",\"-\",\"*\",\"/\",\"%\"]\n",
    "d=[]\n",
    "for i in range(len(s)):\n",
    "    for j in range(len(s)):\n",
    "        exp=f\"{a[0]} {s[j]} {a[1]} {s[i]} {a[2]}\"\n",
    "        r=eval(exp)\n",
    "        if r==t:\n",
    "            d.append(exp)\n",
    "print(d[0])"
   ]
  },
  {
   "cell_type": "code",
   "execution_count": 36,
   "metadata": {},
   "outputs": [
    {
     "name": "stdout",
     "output_type": "stream",
     "text": [
      "13 9 5 1 \n",
      "14 10 6 2 \n",
      "15 11 7 3 \n",
      "16 12 8 4 \n"
     ]
    }
   ],
   "source": [
    "# matrix 90 rotation\n",
    "def rot(m):\n",
    "    n=len(m)\n",
    "    for i in range(n):\n",
    "        for j in range(i+1,n):\n",
    "            m[i][j],m[j][i]=m[j][i],m[i][j]\n",
    "    for i in m:\n",
    "        i.reverse()\n",
    "m=[\n",
    "    [1, 2, 3, 4],\n",
    "    [5, 6, 7, 8],\n",
    "    [9, 10, 11, 12],\n",
    "    [13, 14, 15, 16]\n",
    "]\n",
    "\n",
    "rot(m)\n",
    "for i in range(len(m)):\n",
    "    for j in range(len(m)):\n",
    "        print(m[i][j],end=\" \")\n",
    "    print()"
   ]
  },
  {
   "cell_type": "code",
   "execution_count": 2,
   "metadata": {},
   "outputs": [
    {
     "data": {
      "text/plain": [
       "'k               j               k               i       k               j               i               k   k               k               j               i       k               k               i               j   k               i               k               j       k               i               j               k j               k               k               i       j               k               i               k   j               k               k               i       j               k               i               k   j               i               k               k       j               i               k               k k               j               k               i       k               j               i               k   k               k               j               i       k               k               i               j   k               i               k               j       k               i               j               k i               j               k               k       i               j               k               k   i               k               j               k       i               k               k               j   i               k               k               j       i               k               j               k'"
      ]
     },
     "execution_count": 2,
     "metadata": {},
     "output_type": "execute_result"
    }
   ],
   "source": [
    "def pm(a,i=0):\n",
    "    b=[]\n",
    "    if i==len(a):\n",
    "        b.append(''.join(a))\n",
    "    for j in range(i,len(a)):\n",
    "        w=[c for c in a]\n",
    "        w[i],w[j]=w[j],w[i]\n",
    "        b.extend(pm(w,i+1))\n",
    "    return ' '.join(b)\n",
    "pm(\"kjki\")"
   ]
  },
  {
   "cell_type": "code",
   "execution_count": null,
   "metadata": {},
   "outputs": [],
   "source": []
  }
 ],
 "metadata": {
  "kernelspec": {
   "display_name": "Python 3",
   "language": "python",
   "name": "python3"
  },
  "language_info": {
   "codemirror_mode": {
    "name": "ipython",
    "version": 3
   },
   "file_extension": ".py",
   "mimetype": "text/x-python",
   "name": "python",
   "nbconvert_exporter": "python",
   "pygments_lexer": "ipython3",
   "version": "3.11.9"
  }
 },
 "nbformat": 4,
 "nbformat_minor": 2
}
